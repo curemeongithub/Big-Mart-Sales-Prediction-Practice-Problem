{
 "cells": [
  {
   "cell_type": "markdown",
   "metadata": {},
   "source": [
    "# In this notebook we test out a Linear Regression as a baseline model."
   ]
  },
  {
   "cell_type": "code",
   "execution_count": 1,
   "metadata": {},
   "outputs": [],
   "source": [
    "import pandas as pd\n",
    "import numpy as np\n",
    "import matplotlib.pyplot as plt\n",
    "import joblib\n",
    "from joblib import Memory\n",
    "import scipy.stats as st\n",
    "\n",
    "# Import necessary modules for modeling and preprocessing\n",
    "from sklearn.model_selection import RandomizedSearchCV, cross_val_score\n",
    "from sklearn.preprocessing import OneHotEncoder, RobustScaler, PowerTransformer, PolynomialFeatures\n",
    "from sklearn.pipeline import Pipeline\n",
    "from sklearn.compose import ColumnTransformer\n",
    "from sklearn.impute import SimpleImputer\n",
    "from sklearn.metrics import make_scorer, mean_squared_error\n",
    "from sklearn.linear_model import Ridge, Lasso, ElasticNet\n",
    "from sklearn.linear_model import LinearRegression\n",
    "\n"
   ]
  },
  {
   "cell_type": "code",
   "execution_count": 2,
   "metadata": {},
   "outputs": [],
   "source": [
    "\n",
    "train_file = r\"C:\\Users\\malli\\Documents\\GitHub\\Big-Mart-Sales-Prediction-Practice-Problem--\\Datasets\\train_cleaned_FE.csv\"\n",
    "df = pd.read_csv(train_file)\n",
    "df = df.drop(columns=['MRP_by_Outlet_Type']) #We drop this column as it is highly correlated with MRP and had a very low variance for our power transformation\n",
    "\n"
   ]
  },
  {
   "cell_type": "code",
   "execution_count": 3,
   "metadata": {},
   "outputs": [
    {
     "name": "stdout",
     "output_type": "stream",
     "text": [
      "<class 'pandas.core.frame.DataFrame'>\n",
      "RangeIndex: 8523 entries, 0 to 8522\n",
      "Data columns (total 14 columns):\n",
      " #   Column                      Non-Null Count  Dtype  \n",
      "---  ------                      --------------  -----  \n",
      " 0   Item                        8523 non-null   object \n",
      " 1   Item_Weight                 8523 non-null   float64\n",
      " 2   Item_Fat_Content            8523 non-null   object \n",
      " 3   Item_Visibility             8523 non-null   float64\n",
      " 4   Item_Type                   8523 non-null   object \n",
      " 5   Item_MRP                    8523 non-null   float64\n",
      " 6   Outlet                      8523 non-null   object \n",
      " 7   Years_Since_Establishment   8523 non-null   int64  \n",
      " 8   Outlet_Size                 8523 non-null   object \n",
      " 9   Outlet_Location_Type        8523 non-null   object \n",
      " 10  Outlet_Type                 8523 non-null   object \n",
      " 11  Item_Outlet_Sales           8523 non-null   float64\n",
      " 12  Mean_Sales_Outlet_Type      8523 non-null   float64\n",
      " 13  Avg_Sales_by_Location_Type  8523 non-null   float64\n",
      "dtypes: float64(6), int64(1), object(7)\n",
      "memory usage: 932.3+ KB\n"
     ]
    }
   ],
   "source": [
    "df.info()"
   ]
  },
  {
   "cell_type": "code",
   "execution_count": 5,
   "metadata": {},
   "outputs": [],
   "source": [
    "categorical_cols = ['Item', 'Outlet', 'Outlet_Type','Outlet_Location_Type', 'Outlet_Size', 'Item_Fat_Content', 'Item_Type']\n",
    "numerical_cols = ['Item_MRP', 'Item_Weight', 'Item_Visibility','Years_Since_Establishment', \n",
    "                  'Mean_Sales_Outlet_Type', 'Avg_Sales_by_Location_Type']"
   ]
  },
  {
   "cell_type": "code",
   "execution_count": null,
   "metadata": {},
   "outputs": [],
   "source": [
    "numerical_cols = [col for col in numerical_cols if col in df.columns]\n",
    "categorical_cols = [col for col in categorical_cols if col in df.columns]\n"
   ]
  },
  {
   "cell_type": "code",
   "execution_count": null,
   "metadata": {},
   "outputs": [],
   "source": [
    "X = df.drop(columns=['Item_Outlet_Sales'])\n",
    "y = df['Item_Outlet_Sales']\n"
   ]
  },
  {
   "cell_type": "code",
   "execution_count": 10,
   "metadata": {},
   "outputs": [
    {
     "name": "stdout",
     "output_type": "stream",
     "text": [
      "Columns in X: Index(['Item', 'Item_Weight', 'Item_Fat_Content', 'Item_Visibility',\n",
      "       'Item_Type', 'Item_MRP', 'Outlet', 'Years_Since_Establishment',\n",
      "       'Outlet_Size', 'Outlet_Location_Type', 'Outlet_Type',\n",
      "       'Mean_Sales_Outlet_Type', 'Avg_Sales_by_Location_Type'],\n",
      "      dtype='object')\n",
      "Numerical Columns: ['Item_MRP', 'Item_Weight', 'Item_Visibility', 'Years_Since_Establishment', 'Mean_Sales_Outlet_Type', 'Avg_Sales_by_Location_Type']\n",
      "Categorical Columns: ['Item', 'Outlet', 'Outlet_Type', 'Outlet_Location_Type', 'Outlet_Size', 'Item_Fat_Content', 'Item_Type']\n"
     ]
    }
   ],
   "source": [
    "# Ensure numerical_cols and categorical_cols match current dataframe\n",
    "numerical_cols = [col for col in numerical_cols if col in df.columns]\n",
    "categorical_cols = [col for col in categorical_cols if col in df.columns]\n",
    "print(\"Columns in X:\", X.columns)\n",
    "print(\"Numerical Columns:\", numerical_cols)\n",
    "print(\"Categorical Columns:\", categorical_cols)\n"
   ]
  },
  {
   "cell_type": "code",
   "execution_count": null,
   "metadata": {},
   "outputs": [],
   "source": [
    "# RMSE scorer (we use negative RMSE because scikit-learn expects higher scores to be better)\n",
    "def rmse(y_true, y_pred):\n",
    "    return np.sqrt(mean_squared_error(y_true, y_pred))\n",
    "rmse_scorer = make_scorer(rmse, greater_is_better=False)"
   ]
  },
  {
   "cell_type": "code",
   "execution_count": 12,
   "metadata": {},
   "outputs": [],
   "source": [
    "memory = Memory(location='cache_dir', verbose=0)\n",
    "\n",
    "categorical_transformer = Pipeline(steps=[\n",
    "    ('imputer', SimpleImputer(strategy='most_frequent')),\n",
    "    ('onehot', OneHotEncoder(handle_unknown='ignore'))\n",
    "], memory=memory)\n",
    "\n",
    "numerical_transformer = Pipeline(steps=[\n",
    "    ('imputer', SimpleImputer(strategy='mean')),\n",
    "    ('yeo_johnson', PowerTransformer(method='yeo-johnson')),\n",
    "    ('scaler', RobustScaler()),\n",
    "    ('poly', PolynomialFeatures(degree=1, include_bias=False))\n",
    "])\n",
    "    \n",
    "preprocessor = ColumnTransformer(transformers=[\n",
    "    ('num', numerical_transformer, numerical_cols),\n",
    "    ('cat', categorical_transformer, categorical_cols)\n",
    "])\n",
    "\n"
   ]
  },
  {
   "cell_type": "code",
   "execution_count": 13,
   "metadata": {},
   "outputs": [],
   "source": [
    "# Defining a function to tune a Model with RandomizedSearchCV\n",
    "\n",
    "def tune_model(model, param_distributions, X, y, preprocessor, n_iter=10, cv=5, random_state=42):\n",
    "    \"\"\"\n",
    "    Build a pipeline with the preprocessor and the given model,\n",
    "    perform randomized search cross-validation, and return the best estimator.\n",
    "    \"\"\"\n",
    "    pipeline = Pipeline(steps=[\n",
    "        ('preprocessor', preprocessor),\n",
    "        ('model', model)\n",
    "    ], memory=memory)\n",
    "    \n",
    "    rsearch = RandomizedSearchCV(\n",
    "        pipeline,\n",
    "        param_distributions=param_distributions,\n",
    "        n_iter=n_iter,\n",
    "        cv=cv,\n",
    "        scoring=rmse_scorer,\n",
    "        random_state=random_state,\n",
    "        n_jobs=-1,\n",
    "        verbose=1\n",
    "    )\n",
    "    rsearch.fit(X, y)\n",
    "    print(f\"Best params for {model.__class__.__name__}: {rsearch.best_params_}\")\n",
    "    print(f\"Best CV RMSE for {model.__class__.__name__}: {-rsearch.best_score_:.4f}\")\n",
    "    return rsearch.best_estimator_\n"
   ]
  },
  {
   "cell_type": "code",
   "execution_count": 14,
   "metadata": {},
   "outputs": [
    {
     "name": "stdout",
     "output_type": "stream",
     "text": [
      "Tuning Linear Regression ...\n",
      "Fitting 5 folds for each of 2 candidates, totalling 10 fits\n"
     ]
    },
    {
     "name": "stderr",
     "output_type": "stream",
     "text": [
      "c:\\Users\\malli\\.conda\\envs\\test\\Lib\\site-packages\\sklearn\\model_selection\\_search.py:320: UserWarning: The total space of parameters 2 is smaller than n_iter=10. Running 2 iterations. For exhaustive searches, use GridSearchCV.\n",
      "  warnings.warn(\n"
     ]
    },
    {
     "name": "stdout",
     "output_type": "stream",
     "text": [
      "Best params for LinearRegression: {'preprocessor__num__poly__degree': 2}\n",
      "Best CV RMSE for LinearRegression: 1220.4701\n"
     ]
    }
   ],
   "source": [
    "# For a regular (non-regularized) LinearRegression model, we only tune the polynomial degree.\n",
    "linear_params = {\n",
    "    'preprocessor__num__poly__degree': [1, 2]\n",
    "}\n",
    "\n",
    "print(\"Tuning Linear Regression ...\")\n",
    "linear_model = tune_model(LinearRegression(), linear_params, X, y, preprocessor)\n"
   ]
  },
  {
   "cell_type": "code",
   "execution_count": 15,
   "metadata": {},
   "outputs": [
    {
     "name": "stdout",
     "output_type": "stream",
     "text": [
      "Predictions saved to: I:\\My Drive\\Data Science\\Case Comps\\Feburary Internship Retail Prediction\\submissons\\linear_model_poly.csv\n"
     ]
    }
   ],
   "source": [
    "test_file = r\"C:\\Users\\malli\\Documents\\GitHub\\Big-Mart-Sales-Prediction-Practice-Problem--\\Datasets\\test_cleaned_FE.csv\"\n",
    "test_data = pd.read_csv(test_file)\n",
    "test_data = test_data.drop(columns=['MRP_by_Outlet_Type'],\n",
    "                              errors='ignore')\n",
    "\n",
    "predictions_linear = linear_model.predict(test_data)\n",
    "test_data['Predicted_Item_Outlet_Sales_linear'] = predictions_linear\n",
    "test_data['Predicted_Item_Outlet_Sales_linear_abs'] = np.abs(predictions_linear)\n",
    "\n",
    "output_file = r\"I:\\My Drive\\Data Science\\Case Comps\\Feburary Internship Retail Prediction\\submissons\\linear_model_poly.csv\"\n",
    "test_data.to_csv(output_file, index=False)\n",
    "print(\"Predictions saved to:\", output_file)\n"
   ]
  },
  {
   "cell_type": "code",
   "execution_count": 16,
   "metadata": {},
   "outputs": [],
   "source": [
    "import joblib  \n",
    "\n",
    "# Save the trained linear  model\n",
    "model_path = r\"C:\\Users\\malli\\Documents\\GitHub\\Big-Mart-Sales-Prediction-Practice-Problem--\\Saved Models\\linear_poly.pkl\"\n",
    "with open(model_path, \"wb\") as f:\n",
    "    joblib.dump(linear_model, f)\n"
   ]
  },
  {
   "attachments": {
    "image.png": {
     "image/png": "[encoded data removed]"
    }
   },
   "cell_type": "markdown",
   "metadata": {},
   "source": [
    "# This model gave us a score on the test data set of 1229.3814464918\n",
    "![image.png](attachment:image.png)"
   ]
  }
 ],
 "metadata": {
  "kernelspec": {
   "display_name": "test",
   "language": "python",
   "name": "python3"
  },
  "language_info": {
   "codemirror_mode": {
    "name": "ipython",
    "version": 3
   },
   "file_extension": ".py",
   "mimetype": "text/x-python",
   "name": "python",
   "nbconvert_exporter": "python",
   "pygments_lexer": "ipython3",
   "version": "3.12.4"
  }
 },
 "nbformat": 4,
 "nbformat_minor": 2
}
