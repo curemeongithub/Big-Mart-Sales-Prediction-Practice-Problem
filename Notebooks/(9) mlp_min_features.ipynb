{
 "cells": [
  {
   "cell_type": "code",
   "execution_count": 3,
   "metadata": {},
   "outputs": [],
   "source": [
    "import pandas as pd\n",
    "import numpy as np\n",
    "import matplotlib.pyplot as plt\n",
    "import joblib\n",
    "from joblib import Memory\n",
    "import scipy.stats as st\n",
    "\n",
    "from sklearn.model_selection import RandomizedSearchCV\n",
    "from sklearn.preprocessing import OneHotEncoder, RobustScaler, PowerTransformer  # Using RobustScaler for robust scaling\n",
    "from sklearn.pipeline import Pipeline\n",
    "from sklearn.compose import ColumnTransformer\n",
    "from sklearn.impute import SimpleImputer\n",
    "from sklearn.metrics import make_scorer, mean_squared_error\n",
    "from sklearn.neural_network import MLPRegressor\n",
    "\n",
    "def rmse(y_true, y_pred):\n",
    "    return np.sqrt(mean_squared_error(y_true, y_pred))\n",
    "rmse_scorer = make_scorer(rmse, greater_is_better=False)"
   ]
  },
  {
   "cell_type": "code",
   "execution_count": 4,
   "metadata": {},
   "outputs": [],
   "source": [
    "train_file = r\"C:\\Users\\malli\\Downloads\\Di-20250208T185422Z-001\\Di\\train_cleaned_FE.csv\"\n",
    "df = pd.read_csv(train_file)\n",
    "df = df.drop(columns=['MRP_by_Outlet_Type','Outlet_Location_Type', 'Outlet_Size', 'Item_Weight','Item_Fat_Content','Item_Visibility','Item_Type','Years_Since_Establishment','Mean_Sales_Outlet_Type','Avg_Sales_by_Location_Type'])\n",
    "\n",
    "# Define feature columns\n",
    "categorical_cols = ['Item', 'Outlet', 'Outlet_Type']\n",
    "numerical_cols = ['Item_MRP']"
   ]
  },
  {
   "cell_type": "code",
   "execution_count": 5,
   "metadata": {},
   "outputs": [
    {
     "name": "stdout",
     "output_type": "stream",
     "text": [
      "<class 'pandas.core.frame.DataFrame'>\n",
      "RangeIndex: 8523 entries, 0 to 8522\n",
      "Data columns (total 5 columns):\n",
      " #   Column             Non-Null Count  Dtype  \n",
      "---  ------             --------------  -----  \n",
      " 0   Item               8523 non-null   object \n",
      " 1   Item_MRP           8523 non-null   float64\n",
      " 2   Outlet             8523 non-null   object \n",
      " 3   Outlet_Type        8523 non-null   object \n",
      " 4   Item_Outlet_Sales  8523 non-null   float64\n",
      "dtypes: float64(2), object(3)\n",
      "memory usage: 333.1+ KB\n"
     ]
    }
   ],
   "source": [
    "df.info()"
   ]
  },
  {
   "cell_type": "code",
   "execution_count": 6,
   "metadata": {},
   "outputs": [],
   "source": [
    "def tune_model(model, param_distributions, X, y, preprocessor, n_iter=10, cv=5, random_state=42):\n",
    "    \"\"\"\n",
    "    Build a pipeline with the preprocessor and the model, and run RandomizedSearchCV.\n",
    "    \"\"\"\n",
    "    pipeline = Pipeline(steps=[\n",
    "        ('preprocessor', preprocessor),\n",
    "        ('model', model)\n",
    "    ], memory=memory)  # Cache intermediate steps\n",
    "    \n",
    "    rsearch = RandomizedSearchCV(\n",
    "        pipeline,\n",
    "        param_distributions=param_distributions,\n",
    "        n_iter=n_iter,\n",
    "        cv=cv,\n",
    "        scoring=rmse_scorer,\n",
    "        random_state=random_state,\n",
    "        n_jobs=-1,\n",
    "        verbose=1\n",
    "    )\n",
    "    rsearch.fit(X, y)\n",
    "    print(f\"Best params for {model.__class__.__name__}: {rsearch.best_params_}\")\n",
    "    return rsearch.best_estimator_"
   ]
  },
  {
   "cell_type": "code",
   "execution_count": 7,
   "metadata": {},
   "outputs": [],
   "source": [
    "memory = Memory(location='cache_dir', verbose=0)\n",
    "\n",
    "categorical_transformer = Pipeline(steps=[\n",
    "    ('imputer', SimpleImputer(strategy='most_frequent')),\n",
    "    ('onehot', OneHotEncoder(handle_unknown='ignore'))\n",
    "], memory=memory)\n",
    "\n",
    "numerical_transformer = Pipeline(steps=[\n",
    "    ('imputer', SimpleImputer(strategy='mean')),\n",
    "    ('yeo_johnson', PowerTransformer(method='yeo-johnson')),\n",
    "    ('scaler', RobustScaler())\n",
    "])\n",
    "\n",
    "preprocessor = ColumnTransformer(\n",
    "    transformers=[\n",
    "        ('num', numerical_transformer, numerical_cols),\n",
    "        ('cat', categorical_transformer, categorical_cols)\n",
    "    ]\n",
    ")\n",
    "\n",
    "X = df.drop(columns=['Item_Outlet_Sales'])\n",
    "y = df['Item_Outlet_Sales']"
   ]
  },
  {
   "cell_type": "code",
   "execution_count": 8,
   "metadata": {},
   "outputs": [],
   "source": [
    "memory = Memory(location='cache_dir', verbose=0)\n",
    "\n",
    "categorical_transformer = Pipeline(steps=[\n",
    "    ('imputer', SimpleImputer(strategy='most_frequent')),\n",
    "    ('onehot', OneHotEncoder(handle_unknown='ignore'))\n",
    "], memory=memory)\n",
    "\n",
    "numerical_transformer = Pipeline(steps=[\n",
    "    ('imputer', SimpleImputer(strategy='mean')),\n",
    "    ('yeo_johnson', PowerTransformer(method='yeo-johnson')),\n",
    "    ('scaler', RobustScaler())\n",
    "])\n",
    "\n",
    "preprocessor = ColumnTransformer(\n",
    "    transformers=[\n",
    "        ('num', numerical_transformer, numerical_cols),\n",
    "        ('cat', categorical_transformer, categorical_cols)\n",
    "    ]\n",
    ")"
   ]
  },
  {
   "cell_type": "code",
   "execution_count": 9,
   "metadata": {},
   "outputs": [],
   "source": [
    "mlp_params = {\n",
    "    'model__hidden_layer_sizes': [(50,), (100,), (50, 50)],\n",
    "    'model__activation': ['relu', 'tanh'],\n",
    "    'model__alpha': st.loguniform(1e-4, 1e-1),\n",
    "    'model__learning_rate_init': st.uniform(0.001, 0.01)\n",
    "}"
   ]
  },
  {
   "cell_type": "code",
   "execution_count": 10,
   "metadata": {},
   "outputs": [
    {
     "name": "stdout",
     "output_type": "stream",
     "text": [
      "Tuning MLPRegressor...\n",
      "Fitting 5 folds for each of 10 candidates, totalling 50 fits\n"
     ]
    },
    {
     "name": "stdout",
     "output_type": "stream",
     "text": [
      "Best params for MLPRegressor: {'model__activation': 'relu', 'model__alpha': 0.006173770394704574, 'model__hidden_layer_sizes': (100,), 'model__learning_rate_init': 0.0025599452033620265}\n"
     ]
    },
    {
     "name": "stderr",
     "output_type": "stream",
     "text": [
      "c:\\Users\\malli\\anaconda3\\envs\\abhi_feb\\Lib\\site-packages\\sklearn\\neural_network\\_multilayer_perceptron.py:691: ConvergenceWarning: Stochastic Optimizer: Maximum iterations (1000) reached and the optimization hasn't converged yet.\n",
      "  warnings.warn(\n"
     ]
    }
   ],
   "source": [
    "print(\"Tuning MLPRegressor...\")\n",
    "mlp_model = tune_model(MLPRegressor(random_state=42, max_iter=1000), mlp_params, X, y, preprocessor)\n"
   ]
  },
  {
   "cell_type": "code",
   "execution_count": 11,
   "metadata": {},
   "outputs": [
    {
     "name": "stdout",
     "output_type": "stream",
     "text": [
      "Predictions saved to: C:\\Users\\malli\\Downloads\\Di-20250208T185422Z-001\\Di\\mlp_minimum.csv\n"
     ]
    }
   ],
   "source": [
    "test_file = r\"C:\\Users\\malli\\Downloads\\Di-20250208T185422Z-001\\Di\\test_cleaned_FE.csv\"\n",
    "test_data = pd.read_csv(test_file)\n",
    "test_data = test_data.drop(columns=['MRP_by_Outlet_Type','Outlet_Location_Type', 'Outlet_Size', 'Item_Weight','Item_Fat_Content','Item_Visibility','Item_Type','Years_Since_Establishment','Mean_Sales_Outlet_Type','Avg_Sales_by_Location_Type'], errors='ignore')\n",
    "\n",
    "\n",
    "# Choosing the best models based on CV RMSE\n",
    "predictions = mlp_model.predict(test_data)\n",
    "test_data['Predicted_Item_Outlet_Sales_mlp'] = predictions\n",
    "test_data['Predicted_Item_Outlet_Sales_mlp_abs'] = np.abs(predictions)\n",
    "\n",
    "\n",
    "output_file = r\"C:\\Users\\malli\\Downloads\\Di-20250208T185422Z-001\\Di\\mlp_minimum.csv\"\n",
    "test_data.to_csv(output_file, index=False)\n",
    "print(\"Predictions saved to:\", output_file)\n"
   ]
  },
  {
   "cell_type": "code",
   "execution_count": 12,
   "metadata": {},
   "outputs": [],
   "source": [
    "import joblib\n",
    "import joblib\n",
    "model_path = r\"C:\\Users\\malli\\Downloads\\Di-20250208T185422Z-001\\Di\\mlp_min.pkl\"\n",
    "with open(model_path,\"wb\") as f:\n",
    "    joblib.dump(mlp_model,f)"
   ]
  },
  {
   "attachments": {
    "image.png": {
     "image/png": "[encoded data removed]"
    }
   },
   "cell_type": "markdown",
   "metadata": {},
   "source": [
    "![image.png](attachment:image.png)"
   ]
  }
 ],
 "metadata": {
  "kernelspec": {
   "display_name": "abhi_feb",
   "language": "python",
   "name": "python3"
  },
  "language_info": {
   "codemirror_mode": {
    "name": "ipython",
    "version": 3
   },
   "file_extension": ".py",
   "mimetype": "text/x-python",
   "name": "python",
   "nbconvert_exporter": "python",
   "pygments_lexer": "ipython3",
   "version": "3.12.9"
  }
 },
 "nbformat": 4,
 "nbformat_minor": 2
}
