{
 "cells": [
  {
   "cell_type": "markdown",
   "metadata": {},
   "source": [
    "# In this notebook we test out the linear regresion model with regularizations."
   ]
  },
  {
   "cell_type": "code",
   "execution_count": 1,
   "metadata": {},
   "outputs": [],
   "source": [
    "import pandas as pd\n",
    "import numpy as np\n",
    "import matplotlib.pyplot as plt\n",
    "import joblib\n",
    "from joblib import Memory\n",
    "import scipy.stats as st\n",
    "\n",
    "# Import necessary modules for modeling and preprocessing\n",
    "from sklearn.model_selection import RandomizedSearchCV, cross_val_score\n",
    "from sklearn.preprocessing import OneHotEncoder, RobustScaler, PowerTransformer, PolynomialFeatures\n",
    "from sklearn.pipeline import Pipeline\n",
    "from sklearn.compose import ColumnTransformer\n",
    "from sklearn.impute import SimpleImputer\n",
    "from sklearn.metrics import make_scorer, mean_squared_error\n",
    "from sklearn.linear_model import Ridge, Lasso, ElasticNet\n"
   ]
  },
  {
   "cell_type": "code",
   "execution_count": null,
   "metadata": {},
   "outputs": [],
   "source": [
    "train_file = r\"C:\\Users\\malli\\Documents\\GitHub\\Big-Mart-Sales-Prediction-Practice-Problem--\\Datasets\\train_cleaned_FE.csv\"\n",
    "df = pd.read_csv(train_file)\n",
    "df = df.drop(columns=['MRP_by_Outlet_Type'])"
   ]
  },
  {
   "cell_type": "code",
   "execution_count": 3,
   "metadata": {},
   "outputs": [],
   "source": [
    "categorical_cols = ['Item', 'Outlet', 'Outlet_Type','Outlet_Location_Type', 'Outlet_Size', 'Item_Fat_Content', 'Item_Type']\n",
    "numerical_cols = ['Item_MRP', 'Item_Weight', 'Item_Visibility','Years_Since_Establishment', \n",
    "                  'Mean_Sales_Outlet_Type', 'Avg_Sales_by_Location_Type']"
   ]
  },
  {
   "cell_type": "code",
   "execution_count": 6,
   "metadata": {},
   "outputs": [],
   "source": [
    "numerical_cols = [col for col in numerical_cols if col in df.columns]\n",
    "categorical_cols = [col for col in categorical_cols if col in df.columns]\n"
   ]
  },
  {
   "cell_type": "code",
   "execution_count": 7,
   "metadata": {},
   "outputs": [],
   "source": [
    "X = df.drop(columns=['Item_Outlet_Sales'])\n",
    "y = df['Item_Outlet_Sales']\n"
   ]
  },
  {
   "cell_type": "code",
   "execution_count": 8,
   "metadata": {},
   "outputs": [
    {
     "name": "stdout",
     "output_type": "stream",
     "text": [
      "Columns in X: Index(['Item', 'Item_Weight', 'Item_Fat_Content', 'Item_Visibility',\n",
      "       'Item_Type', 'Item_MRP', 'Outlet', 'Years_Since_Establishment',\n",
      "       'Outlet_Size', 'Outlet_Location_Type', 'Outlet_Type',\n",
      "       'Mean_Sales_Outlet_Type', 'Avg_Sales_by_Location_Type'],\n",
      "      dtype='object')\n",
      "Numerical Columns: ['Item_MRP', 'Item_Weight', 'Item_Visibility', 'Years_Since_Establishment', 'Mean_Sales_Outlet_Type', 'Avg_Sales_by_Location_Type']\n",
      "Categorical Columns: ['Item', 'Outlet', 'Outlet_Type', 'Outlet_Location_Type', 'Outlet_Size', 'Item_Fat_Content', 'Item_Type']\n"
     ]
    }
   ],
   "source": [
    "# Ensure numerical_cols and categorical_cols match current dataframe\n",
    "numerical_cols = [col for col in numerical_cols if col in df.columns]\n",
    "categorical_cols = [col for col in categorical_cols if col in df.columns]\n",
    "print(\"Columns in X:\", X.columns)\n",
    "print(\"Numerical Columns:\", numerical_cols)\n",
    "print(\"Categorical Columns:\", categorical_cols)"
   ]
  },
  {
   "cell_type": "code",
   "execution_count": 5,
   "metadata": {},
   "outputs": [],
   "source": [
    "def rmse(y_true, y_pred):\n",
    "    return np.sqrt(mean_squared_error(y_true, y_pred))\n",
    "rmse_scorer = make_scorer(rmse, greater_is_better=False)"
   ]
  },
  {
   "cell_type": "code",
   "execution_count": 9,
   "metadata": {},
   "outputs": [],
   "source": [
    "memory = Memory(location='cache_dir', verbose=0)\n",
    "\n",
    "categorical_transformer = Pipeline(steps=[\n",
    "    ('imputer', SimpleImputer(strategy='most_frequent')),\n",
    "    ('onehot', OneHotEncoder(handle_unknown='ignore'))\n",
    "], memory=memory)\n",
    "\n",
    "numerical_transformer = Pipeline(steps=[\n",
    "    ('imputer', SimpleImputer(strategy='mean')),\n",
    "    ('yeo_johnson', PowerTransformer(method='yeo-johnson')),\n",
    "    ('scaler', RobustScaler()),\n",
    "    ('poly', PolynomialFeatures(degree=1, include_bias=False))\n",
    "])\n",
    "    \n",
    "preprocessor = ColumnTransformer(transformers=[\n",
    "    ('num', numerical_transformer, numerical_cols),\n",
    "    ('cat', categorical_transformer, categorical_cols)\n",
    "])"
   ]
  },
  {
   "cell_type": "code",
   "execution_count": 10,
   "metadata": {},
   "outputs": [],
   "source": [
    "ridge_params = {\n",
    "    'model__alpha': st.loguniform(1e-4, 1e2),\n",
    "    'preprocessor__num__poly__degree': [1, 2]\n",
    "}\n",
    "\n",
    "lasso_params = {\n",
    "    'model__alpha': st.loguniform(1e-4, 1e2),\n",
    "    'preprocessor__num__poly__degree': [1, 2]\n",
    "}\n",
    "\n",
    "elasticnet_params = {\n",
    "    'model__alpha': st.loguniform(1e-4, 1e2),\n",
    "    'model__l1_ratio': st.uniform(0, 1),\n",
    "    'preprocessor__num__poly__degree': [1, 2]\n",
    "}\n"
   ]
  },
  {
   "cell_type": "code",
   "execution_count": 11,
   "metadata": {},
   "outputs": [],
   "source": [
    "def tune_model(model, param_distributions, X, y, preprocessor, n_iter=10, cv=5, random_state=42):\n",
    "    \"\"\"\n",
    "    Build a pipeline with the preprocessor and the given model,\n",
    "    perform randomized search cross-validation, and return the best estimator.\n",
    "    \"\"\"\n",
    "    pipeline = Pipeline(steps=[\n",
    "        ('preprocessor', preprocessor),\n",
    "        ('model', model)\n",
    "    ], memory=memory)\n",
    "    \n",
    "    rsearch = RandomizedSearchCV(\n",
    "        pipeline,\n",
    "        param_distributions=param_distributions,\n",
    "        n_iter=n_iter,\n",
    "        cv=cv,\n",
    "        scoring=rmse_scorer,\n",
    "        random_state=random_state,\n",
    "        n_jobs=-1,\n",
    "        verbose=1\n",
    "    )\n",
    "    rsearch.fit(X, y)\n",
    "    print(f\"Best params for {model.__class__.__name__}: {rsearch.best_params_}\")\n",
    "    print(f\"Best CV RMSE for {model.__class__.__name__}: {-rsearch.best_score_:.4f}\")\n",
    "    return rsearch.best_estimator_\n"
   ]
  },
  {
   "cell_type": "code",
   "execution_count": 12,
   "metadata": {},
   "outputs": [
    {
     "name": "stdout",
     "output_type": "stream",
     "text": [
      "Tuning Ridge Regression...\n",
      "Fitting 5 folds for each of 10 candidates, totalling 50 fits\n",
      "Best params for Ridge: {'model__alpha': 9.877700294007917, 'preprocessor__num__poly__degree': 2}\n",
      "Best CV RMSE for Ridge: 1084.5610\n",
      "Tuning Lasso Regression...\n",
      "Fitting 5 folds for each of 10 candidates, totalling 50 fits\n",
      "Best params for Lasso: {'model__alpha': 9.877700294007917, 'preprocessor__num__poly__degree': 2}\n",
      "Best CV RMSE for Lasso: 1074.9226\n",
      "Tuning ElasticNet Regression...\n",
      "Fitting 5 folds for each of 10 candidates, totalling 50 fits\n",
      "Best params for ElasticNet: {'model__alpha': 0.0012601639723276807, 'model__l1_ratio': 0.3042422429595377, 'preprocessor__num__poly__degree': 2}\n",
      "Best CV RMSE for ElasticNet: 1093.3321\n"
     ]
    }
   ],
   "source": [
    "best_models = {}\n",
    "\n",
    "print(\"Tuning Ridge Regression...\")\n",
    "best_models['ridge'] = tune_model(Ridge(random_state=42), ridge_params, X, y, preprocessor)\n",
    "\n",
    "print(\"Tuning Lasso Regression...\")\n",
    "# Increase max_iter to help convergence for Lasso.\n",
    "best_models['lasso'] = tune_model(Lasso(random_state=42, max_iter=10000), lasso_params, X, y, preprocessor)\n",
    "\n",
    "print(\"Tuning ElasticNet Regression...\")\n",
    "# Increase max_iter to help convergence for ElasticNet.\n",
    "best_models['elasticnet'] = tune_model(ElasticNet(random_state=42, max_iter=10000), elasticnet_params, X, y, preprocessor)"
   ]
  },
  {
   "cell_type": "code",
   "execution_count": 13,
   "metadata": {},
   "outputs": [
    {
     "name": "stdout",
     "output_type": "stream",
     "text": [
      "ridge model CV RMSE: 1084.5610\n",
      "lasso model CV RMSE: 1074.9226\n",
      "elasticnet model CV RMSE: 1093.3321\n"
     ]
    }
   ],
   "source": [
    "for name, model in best_models.items():\n",
    "    scores = cross_val_score(model, X, y, cv=5, scoring=rmse_scorer, n_jobs=-1)\n",
    "    mean_rmse = -np.mean(scores)\n",
    "    print(f\"{name} model CV RMSE: {mean_rmse:.4f}\")"
   ]
  },
  {
   "cell_type": "code",
   "execution_count": 14,
   "metadata": {},
   "outputs": [
    {
     "name": "stdout",
     "output_type": "stream",
     "text": [
      "Predictions saved to: I:\\My Drive\\Data Science\\Case Comps\\Feburary Internship Retail Prediction\\submissons\\Regularized_Linear_Models_max_features.csv\n"
     ]
    }
   ],
   "source": [
    "test_file = r\"C:\\Users\\malli\\Documents\\GitHub\\Big-Mart-Sales-Prediction-Practice-Problem--\\Datasets\\test_cleaned_FE.csv\"\n",
    "test_data = pd.read_csv(test_file)\n",
    "test_data = test_data.drop(columns=['MRP_by_Outlet_Type'],\n",
    "                              errors='ignore')\n",
    "\n",
    "# Choosing the best models based on CV RMSE\n",
    "best_model_ridge = best_models['lasso']\n",
    "predictions_ridge = best_model_ridge.predict(test_data)\n",
    "test_data['Predicted_Item_Outlet_Sales_ridge'] = predictions_ridge\n",
    "test_data['Predicted_Item_Outlet_Sales_ridge_abs'] = np.abs(predictions_ridge)\n",
    "\n",
    "best_model_lasso = best_models['ridge']\n",
    "predictions_lasso = best_model_lasso.predict(test_data)\n",
    "test_data['Predicted_Item_Outlet_Sales_lasso'] = predictions_lasso\n",
    "test_data['Predicted_Item_Outlet_Sales_lasso_abs'] = np.abs(predictions_lasso)\n",
    "\n",
    "best_model_elasticnet = best_models['elasticnet']\n",
    "predictions_elasticnet = best_model_elasticnet.predict(test_data)\n",
    "test_data['Predicted_Item_Outlet_Sales_elasticnet'] = predictions_elasticnet\n",
    "test_data['Predicted_Item_Outlet_Sales_elasticnet_abs'] = np.abs(predictions_elasticnet)\n",
    "\n",
    "\n",
    "output_file = r\"I:\\My Drive\\Data Science\\Case Comps\\Feburary Internship Retail Prediction\\submissons\\Regularized_Linear_Models_max_features.csv\"\n",
    "test_data.to_csv(output_file, index=False)\n",
    "print(\"Predictions saved to:\", output_file)\n"
   ]
  },
  {
   "cell_type": "code",
   "execution_count": null,
   "metadata": {},
   "outputs": [],
   "source": []
  },
  {
   "attachments": {
    "image.png": {
     "image/png": "[encoded data removed]"
    }
   },
   "cell_type": "markdown",
   "metadata": {},
   "source": [
    "![image.png](attachment:image.png)"
   ]
  },
  {
   "attachments": {
    "image.png": {
     "image/png": "[encoded data removed]"
    }
   },
   "cell_type": "markdown",
   "metadata": {},
   "source": [
    "![image.png](attachment:image.png)"
   ]
  },
  {
   "attachments": {
    "image.png": {
     "image/png": "[encoded data removed]"
    }
   },
   "cell_type": "markdown",
   "metadata": {},
   "source": [
    "![image.png](attachment:image.png)"
   ]
  },
  {
   "cell_type": "markdown",
   "metadata": {},
   "source": [
    "# We can see that **Ridge Regression provides the best result** which suggests that few features might be irrelevant."
   ]
  },
  {
   "cell_type": "code",
   "execution_count": 15,
   "metadata": {},
   "outputs": [],
   "source": [
    "import joblib\n",
    "# Saving the trained ridge  model\n",
    "model_path = r\"C:\\Users\\malli\\Documents\\GitHub\\Big-Mart-Sales-Prediction-Practice-Problem--\\Saved Models\\ridge_max_features.pkl\"\n",
    "with open(model_path, \"wb\") as f:\n",
    "    joblib.dump(best_model_elasticnet, f)"
   ]
  }
 ],
 "metadata": {
  "kernelspec": {
   "display_name": "test",
   "language": "python",
   "name": "python3"
  },
  "language_info": {
   "codemirror_mode": {
    "name": "ipython",
    "version": 3
   },
   "file_extension": ".py",
   "mimetype": "text/x-python",
   "name": "python",
   "nbconvert_exporter": "python",
   "pygments_lexer": "ipython3",
   "version": "3.12.4"
  }
 },
 "nbformat": 4,
 "nbformat_minor": 2
}
