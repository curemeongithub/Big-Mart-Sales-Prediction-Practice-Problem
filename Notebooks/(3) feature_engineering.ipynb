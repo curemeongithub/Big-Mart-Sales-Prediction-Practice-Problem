{
 "cells": [
  {
   "cell_type": "code",
   "execution_count": null,
   "metadata": {},
   "outputs": [
    {
     "data": {
      "text/plain": [
       "('C:\\\\Users\\\\malli\\\\Documents\\\\GitHub\\\\Big-Mart-Sales-Prediction-Practice-Problem--\\\\Datasets\\\\train_cleaned_FE.csv',\n",
       " 'C:\\\\Users\\\\malli\\\\Documents\\\\GitHub\\\\Big-Mart-Sales-Prediction-Practice-Problem--\\\\Datasets\\\\test_cleaned_FE.csv')"
      ]
     },
     "execution_count": 13,
     "metadata": {},
     "output_type": "execute_result"
    }
   ],
   "source": [
    "import pandas as pd\n",
    "import joblib "
   ]
  },
  {
   "cell_type": "code",
   "execution_count": null,
   "metadata": {},
   "outputs": [],
   "source": [
    "train_path = r\"C:\\Users\\malli\\Documents\\GitHub\\Big-Mart-Sales-Prediction-Practice-Problem--\\Datasets\\train_cleaned.csv\"\n",
    "test_path = r\"C:\\Users\\malli\\Documents\\GitHub\\Big-Mart-Sales-Prediction-Practice-Problem--\\Datasets\\test_cleaned.csv\"\n",
    "\n",
    "train_data = pd.read_csv(train_path)\n",
    "test_data = pd.read_csv(test_path)"
   ]
  },
  {
   "cell_type": "code",
   "execution_count": null,
   "metadata": {},
   "outputs": [],
   "source": [
    "# Add a column to distinguish between train and test datasets\n",
    "train_data['is_train'] = 1\n",
    "test_data['is_train'] = 0\n",
    "\n",
    "# Combine the datasets\n",
    "combined_data = pd.concat([train_data, test_data], ignore_index=True)"
   ]
  },
  {
   "cell_type": "code",
   "execution_count": null,
   "metadata": {},
   "outputs": [],
   "source": [
    "# Mean sales per Outlet_Type\n",
    "combined_data['Mean_Sales_Outlet_Type'] = combined_data.groupby('Outlet_Type')['Item_Outlet_Sales'].transform('mean')"
   ]
  },
  {
   "cell_type": "code",
   "execution_count": null,
   "metadata": {},
   "outputs": [],
   "source": [
    "# MRP by Outlet Type\n",
    "combined_data['MRP_by_Outlet_Type'] = combined_data.groupby('Outlet_Type')['Item_MRP'].transform('mean')"
   ]
  },
  {
   "cell_type": "code",
   "execution_count": null,
   "metadata": {},
   "outputs": [],
   "source": [
    "# Average Sales by Outlet_Location_Type\n",
    "combined_data['Avg_Sales_by_Location_Type'] = combined_data.groupby('Outlet_Location_Type')['Item_Outlet_Sales'].transform('mean')\n"
   ]
  },
  {
   "cell_type": "code",
   "execution_count": null,
   "metadata": {},
   "outputs": [],
   "source": [
    "# Separating the datasets back into train and test\n",
    "train_processed = combined_data[combined_data['is_train'] == 1].drop(columns=['is_train'])\n",
    "test_processed = combined_data[combined_data['is_train'] == 0].drop(columns=['is_train'])\n",
    "\n",
    "train_processed_path = r\"C:\\Users\\malli\\Documents\\GitHub\\Big-Mart-Sales-Prediction-Practice-Problem--\\Datasets\\train_cleaned_FE.csv\"\n",
    "test_processed_path = r\"C:\\Users\\malli\\Documents\\GitHub\\Big-Mart-Sales-Prediction-Practice-Problem--\\Datasets\\test_cleaned_FE.csv\"\n",
    "\n",
    "train_processed.to_csv(train_processed_path, index=False)\n",
    "test_processed.to_csv(test_processed_path, index=False)\n",
    "\n",
    "(train_processed_path, test_processed_path)\n"
   ]
  }
 ],
 "metadata": {
  "kernelspec": {
   "display_name": "test",
   "language": "python",
   "name": "python3"
  },
  "language_info": {
   "codemirror_mode": {
    "name": "ipython",
    "version": 3
   },
   "file_extension": ".py",
   "mimetype": "text/x-python",
   "name": "python",
   "nbconvert_exporter": "python",
   "pygments_lexer": "ipython3",
   "version": "3.12.4"
  }
 },
 "nbformat": 4,
 "nbformat_minor": 2
}
