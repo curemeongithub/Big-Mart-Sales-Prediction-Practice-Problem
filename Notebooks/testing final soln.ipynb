{
 "cells": [
  {
   "cell_type": "code",
   "execution_count": 1,
   "metadata": {},
   "outputs": [],
   "source": [
    "import pandas as pd\n",
    "import joblib"
   ]
  },
  {
   "cell_type": "code",
   "execution_count": 4,
   "metadata": {},
   "outputs": [],
   "source": [
    "model = joblib.load(r\"C:\\Users\\malli\\Documents\\GitHub\\Big-Mart-Sales-Prediction-Practice-Problem--\\Saved Models\\final_model.pkl\")"
   ]
  },
  {
   "cell_type": "code",
   "execution_count": 6,
   "metadata": {},
   "outputs": [],
   "source": [
    "test = r\"C:\\Users\\malli\\Documents\\GitHub\\Big-Mart-Sales-Prediction-Practice-Problem--\\Datasets\\test_cleaned.csv\"\n",
    "test_data = pd.read_csv(test)\n",
    "test_data = test_data.drop(columns=['Outlet_Size'], errors='ignore')\n"
   ]
  },
  {
   "cell_type": "code",
   "execution_count": 7,
   "metadata": {},
   "outputs": [],
   "source": [
    "predictions = model.predict(test_data)\n",
    "test_data['Predicted_Item_Outlet_Sales'] = predictions\n",
    "test_data['Predicted_Item_Outlet_Sales_abs'] = test_data['Predicted_Item_Outlet_Sales'].abs()\n"
   ]
  },
  {
   "cell_type": "code",
   "execution_count": 8,
   "metadata": {},
   "outputs": [],
   "source": [
    "trial = test_data.to_csv(r\"C:\\Users\\malli\\Documents\\GitHub\\Big-Mart-Sales-Prediction-Practice-Problem--\\Datasets\\test_predictions.csv\", index=False)"
   ]
  },
  {
   "cell_type": "code",
   "execution_count": null,
   "metadata": {},
   "outputs": [],
   "source": []
  }
 ],
 "metadata": {
  "kernelspec": {
   "display_name": "test",
   "language": "python",
   "name": "python3"
  },
  "language_info": {
   "codemirror_mode": {
    "name": "ipython",
    "version": 3
   },
   "file_extension": ".py",
   "mimetype": "text/x-python",
   "name": "python",
   "nbconvert_exporter": "python",
   "pygments_lexer": "ipython3",
   "version": "3.12.4"
  }
 },
 "nbformat": 4,
 "nbformat_minor": 2
}
